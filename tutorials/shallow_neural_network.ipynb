{
 "cells": [
  {
   "cell_type": "markdown",
   "metadata": {},
   "source": [
    "# Building a neural network model\n",
    "\n",
    "Nowadays, deep learning is becomming a potential tool that everyone wants to explore with the desire of improving accuracy and computational performance in classification and detection problems. However, some people like me, from mathematics or statitics background, may have found  neural networks (NN) as an algorithm that leads to extraordinary results, but with the lack of a clear machanism under the hood that support results; creating certain preference for methods that provide outputs with mathematical base, such as support vector machine or logistic regression. However, it is not completely true that NN is blackbox where magic mainly depend on of a simple structure of input, box and output. The machanism that makes this magic in NN is called backpropagation and I think the math on it is quite deep and need to be understood with detail in order to appreciate from a teoritical and a practical point of view the benefits of applying this technique.\n",
    "\n",
    "I will show in the next lines the python scripts to make a NN work using a simple dataset under the assumption that our net only contains two layers. Once this is clear I will present the code for a multilayer NN for multilabel purposes.\n",
    "\n",
    "## A shallow neural network\n",
    "\n",
    "\n",
    "The heart of backpropagation is the derivative of the cost $\\mathcal{J}$ with respect to any weight $w$ (or bias $b$). THe math for a net with two layers is the following:\n",
    "\n",
    "\\begin{equation}\\label{eq1}\n",
    "\\frac{\\partial \\mathcal{J} }{ \\partial z_{2}^{(i)} } = \\frac{1}{m} (a^{[2](i)} - y^{(i)})\n",
    "\\end{equation}\n",
    "\n",
    "\\begin{equation}\\label{eq2}\n",
    "\\frac{\\partial \\mathcal{J} }{ \\partial W_2 } = \\frac{\\partial \\mathcal{J} }{ \\partial z_{2}^{(i)} } a^{[1] (i) T} \n",
    "\\end{equation}\n",
    "\n",
    "\\begin{equation}\\label{eq3}\n",
    "\\frac{\\partial \\mathcal{J} }{ \\partial b_2 } = \\sum_i{\\frac{\\partial \\mathcal{J} }{ \\partial z_{2}^{(i)}}}\n",
    "\\end{equation}\n",
    "\n",
    "\\begin{equation}\\label{eq4}\n",
    "\\frac{\\partial \\mathcal{J} }{ \\partial z_{1}^{(i)} } =  W_2^T \\frac{\\partial \\mathcal{J} }{ \\partial z_{2}^{(i)} } * ( 1 - a^{[1] (i) 2})\n",
    "\\end{equation}\n",
    "\n",
    "\\begin{equation}\\label{eq5}\n",
    "\\frac{\\partial \\mathcal{J} }{ \\partial W_1 } = \\frac{\\partial \\mathcal{J} }{ \\partial z_{1}^{(i)} }  X^T \n",
    "\\end{equation}\n",
    "\n",
    "\\begin{equation}\\label{eq6}\n",
    "\\frac{\\partial \\mathcal{J} _i }{ \\partial b_1 } = \\sum_i{\\frac{\\partial \\mathcal{J} }{ \\partial z_{1}^{(i)}}}\n",
    "\\end{equation}\n",
    "\n",
    "\n",
    "\n"
   ]
  },
  {
   "cell_type": "markdown",
   "metadata": {},
   "source": [
    "I show below the points to classify, this is a space defined by two axis and two labels, one red and another blue."
   ]
  },
  {
   "cell_type": "code",
   "execution_count": 320,
   "metadata": {},
   "outputs": [
    {
     "data": {
      "image/png": "[encoded data removed]",
      "text/plain": [
       "<matplotlib.figure.Figure at 0x7f8af4275908>"
      ]
     },
     "metadata": {
      "needs_background": "light"
     },
     "output_type": "display_data"
    }
   ],
   "source": [
    "from matplotlib import pyplot as plt\n",
    "import numpy as np\n",
    "\n",
    "c0_x = [1,1,3,3]\n",
    "c0_y = [1,3,3,1]\n",
    "c1_x = [1.5,2.5,2,2]\n",
    "c1_y = [2,2,2.5,1.5]\n",
    "\n",
    "plt.scatter(c0_x,c0_y,c='red',label = 'class0')\n",
    "plt.scatter(c1_x,c1_y,c='blue',label = 'class1')\n",
    "plt.legend()\n",
    "plt.show()"
   ]
  },
  {
   "cell_type": "code",
   "execution_count": 321,
   "metadata": {},
   "outputs": [],
   "source": [
    "x1 = [1,1,3,3,1.5,2.5,2,2]\n",
    "x2 = [1,3,3,1,2,2,2.5,1.5]\n",
    "X = np.array([[i,j] for i,j in zip(x1,x2)]).T\n",
    "Y = np.array([0,0,0,0,1,1,1,1]).reshape(1,8)"
   ]
  },
  {
   "cell_type": "code",
   "execution_count": 322,
   "metadata": {},
   "outputs": [
    {
     "data": {
      "text/plain": [
       "array([[0, 0, 0, 0, 1, 1, 1, 1]])"
      ]
     },
     "execution_count": 322,
     "metadata": {},
     "output_type": "execute_result"
    }
   ],
   "source": [
    "Y"
   ]
  },
  {
   "cell_type": "markdown",
   "metadata": {},
   "source": [
    "Let's initialze the weights both layer 1 and 2, with the same number of neurons nh. Besides that, in the NN we always have classes - 1 number of units in the outcome, that's why ny takes the value of 1."
   ]
  },
  {
   "cell_type": "code",
   "execution_count": 323,
   "metadata": {},
   "outputs": [],
   "source": [
    "def initialparameters(nx,nh,ny):\n",
    "    '''\n",
    "    input:\n",
    "    nx = number of features\n",
    "    nh = number of neurons \n",
    "    ny = number of classes\n",
    "    output:\n",
    "    W1 = weight matrix layer 1 of size (nh,nx) \n",
    "    b1 = bias vector layer 1 of size (nh,1)\n",
    "    W2 = weight matrix layer 2 of size (ny,nh)\n",
    "    b2 = bias vector layer 2 of size (ny,1)\n",
    "    '''\n",
    "    np.random.seed(2)\n",
    "    W1 = np.random.randn(nh,nx)*0.01\n",
    "    b1 = np.zeros((nh,1))*0.01\n",
    "    W2 = np.random.randn(ny,nh)*0.01\n",
    "    b2 = np.zeros((ny,1))*0.01\n",
    "    \n",
    "    parameters = {'W1': W1,\n",
    "                  'b1': b1,\n",
    "                  'W2': W2,\n",
    "                  'b2': b2,\n",
    "                }\n",
    "\n",
    "    return parameters\n"
   ]
  },
  {
   "cell_type": "code",
   "execution_count": 324,
   "metadata": {},
   "outputs": [
    {
     "data": {
      "text/plain": [
       "array([[ 0.00502881, -0.01245288, -0.01057952]])"
      ]
     },
     "execution_count": 324,
     "metadata": {},
     "output_type": "execute_result"
    }
   ],
   "source": [
    "parameters = initialparameters(2,3,1)\n",
    "parameters['W2']"
   ]
  },
  {
   "cell_type": "markdown",
   "metadata": {},
   "source": [
    "forwardpropagation, first layer with tanh transformation and second layer with sigmoid"
   ]
  },
  {
   "cell_type": "code",
   "execution_count": 325,
   "metadata": {},
   "outputs": [],
   "source": [
    "def sigmoid(x):\n",
    "    z = 1/(1+np.exp(-x))\n",
    "    return z\n",
    "\n",
    "\n",
    "def forward_propagation(X, parameters):\n",
    "    '''\n",
    "    input:\n",
    "    X = features with size (nx,m)\n",
    "    parameters = paython dictionary with the initialization of the weights\n",
    "    \n",
    "    output:\n",
    "    A2 = second activation layer\n",
    "    cache = python dictionary with the outputs of the fordware propagation\n",
    "    '''\n",
    "    W1 = parameters['W1']  # (nh,nx) \n",
    "    b1 = parameters['b1']  # (nh,1)\n",
    "    W2 = parameters['W2']  # (ny,nh)\n",
    "    b2 = parameters['b2']  # (ny,1)\n",
    "    \n",
    "    #propagation\n",
    "    Z1 = np.dot(W1,X) + b1   # Size (nh,m) \n",
    "    A1 = np.tanh(Z1)         # Size (nh,m)\n",
    "    Z2 = np.dot(W2,A1) + b2  # Size (ny,m)\n",
    "    A2 = sigmoid(Z2)         # Size (ny,m)\n",
    "    \n",
    "    cache = {\n",
    "        'Z1': Z1,\n",
    "        'A1': A1,\n",
    "        'Z2': Z2,\n",
    "        'A2': A2}\n",
    "    return A2, cache"
   ]
  },
  {
   "cell_type": "code",
   "execution_count": 326,
   "metadata": {},
   "outputs": [
    {
     "data": {
      "text/plain": [
       "array([[-0.00473021, -0.00585552, -0.01418979, -0.01306466, -0.00737657,\n",
       "        -0.01154377, -0.00974152, -0.0091789 ],\n",
       "       [-0.00495921,  0.02783897, -0.01487666, -0.04764707,  0.00076247,\n",
       "        -0.02059657, -0.00171715, -0.01811788],\n",
       "       [-0.02634573, -0.04315995, -0.07889121, -0.06214037, -0.04370861,\n",
       "        -0.06159277, -0.05685103, -0.04845694]])"
      ]
     },
     "execution_count": 326,
     "metadata": {},
     "output_type": "execute_result"
    }
   ],
   "source": [
    "A2,cache = forward_propagation(X, parameters)\n",
    "cache['A1']"
   ]
  },
  {
   "cell_type": "markdown",
   "metadata": {},
   "source": [
    "Computing cost"
   ]
  },
  {
   "cell_type": "code",
   "execution_count": 327,
   "metadata": {},
   "outputs": [
    {
     "data": {
      "text/plain": [
       "2.7713230116693381"
      ]
     },
     "execution_count": 327,
     "metadata": {},
     "output_type": "execute_result"
    }
   ],
   "source": [
    "def computing_cost(A2,Y):\n",
    "    '''\n",
    "    input:\n",
    "    A2 = activation layer 2\n",
    "    y = vector with labels one and cero, size (1,m)\n",
    "    output:\n",
    "    cost = cost entropy\n",
    "    '''\n",
    "    m = Y.shape[1] # number of samples\n",
    "\n",
    "    # Compute the cross-entropy cost\n",
    "    logprobs = np.multiply(np.log(A2),Y)\n",
    "    cost = - np.sum(logprobs)\n",
    "    return cost\n",
    "\n",
    "cost = computing_cost(A2,Y)\n",
    "cost"
   ]
  },
  {
   "cell_type": "markdown",
   "metadata": {},
   "source": [
    "after fordware propagation with set out the calculation of gradient descendent "
   ]
  },
  {
   "cell_type": "code",
   "execution_count": 328,
   "metadata": {},
   "outputs": [],
   "source": [
    "def backpropagation(cache, parameters, X,Y):\n",
    "    '''\n",
    "    input:\n",
    "    cache: python dictionary with the matrices after activation\n",
    "    parameters:python dictionary with the weights\n",
    "    X: features input size (nx,m)\n",
    "    Y: vector with labels one and cero, size (1,m)\n",
    "    \n",
    "    output:\n",
    "    grads: python dictionary with the derivaties of every step in the backpropagation\n",
    "    '''\n",
    "    m = X.shape[1]\n",
    "    # parameters\n",
    "    W1 = parameters['W1']   # Size (nx,nh)\n",
    "    b1 = parameters['b1']   # Size (nh,1)\n",
    "    W2 = parameters['W2']   # Size (ny,nh)\n",
    "    b2 = parameters['b2']   # Size (ny,1)\n",
    "    # cache\n",
    "    Z1 = cache['Z1']        # Size (nh,m)\n",
    "    A1 = cache['A1']        # Size (nh,m)\n",
    "    Z2 = cache['Z2']        # Size (ny,m)\n",
    "    A2 = cache['A2']        # Size (ny,m)\n",
    "    \n",
    "    #Derivatives\n",
    "    dZ2 = A2 - Y            # Size (ny,m)\n",
    "    dW2 = (1/m)*np.dot(dZ2,A1.T)  # Size (ny,nh)\n",
    "    db2 = (1/m)*np.sum(dZ2, axis=1,keepdims=True)\n",
    "    dZ1 = np.multiply(np.dot(W2.T,dZ2),(1 - np.power(A1,2))) # Size (nh,m)\n",
    "    dW1 = (1/m)*np.dot(dZ1,X.T)  # Size (nh,nx)\n",
    "    db1 = (1/m)*np.sum(dZ1, axis=1,keepdims=True)\n",
    "     \n",
    "    grads = {\"dW1\": dW1,\n",
    "             \"db1\": db1,\n",
    "             \"dW2\": dW2,\n",
    "             \"db2\": db2}\n",
    "    \n",
    "    return grads"
   ]
  },
  {
   "cell_type": "code",
   "execution_count": 329,
   "metadata": {},
   "outputs": [
    {
     "data": {
      "text/plain": [
       "{'dW1': array([[  1.77228392e-06,   1.45679749e-06],\n",
       "        [  4.01706116e-07,  -6.69303581e-07],\n",
       "        [  2.17355314e-06,   6.79233396e-07]]),\n",
       " 'db1': array([[  7.76043141e-07],\n",
       "        [  4.37684607e-09],\n",
       "        [ -7.69816639e-07]]),\n",
       " 'dW2': array([[ -1.70510647e-06,  -1.57245277e-06,  -4.77448275e-06]]),\n",
       " 'db2': array([[ 0.00015821]])}"
      ]
     },
     "execution_count": 329,
     "metadata": {},
     "output_type": "execute_result"
    }
   ],
   "source": [
    "grads = backpropagation(cache, parameters, X,Y)\n",
    "grads"
   ]
  },
  {
   "cell_type": "markdown",
   "metadata": {},
   "source": [
    "To update the parameters we propose to use gradient descent"
   ]
  },
  {
   "cell_type": "code",
   "execution_count": 330,
   "metadata": {},
   "outputs": [],
   "source": [
    "def updating_gradients(parameters, grads, learning_rate = 1.5):\n",
    "    '''\n",
    "    input:\n",
    "    parameters = python dictionary with the weigths and bias matrices\n",
    "    grads = matrices with the derivaties in NN\n",
    "    \n",
    "    output:\n",
    "    parameters = python dictionary with the updated parmeters        \n",
    "    '''\n",
    "    #parameters\n",
    "    W1 = parameters['W1']   # Size (nx,nh)\n",
    "    b1 = parameters['b1']   # Size (nh,1)\n",
    "    W2 = parameters['W2']   # Size (ny,nh)\n",
    "    b2 = parameters['b2']   # Size (ny,1)\n",
    "    #grads\n",
    "    dW1 = grads['dW1']\n",
    "    dW2 = grads['dW2']    \n",
    "    db1 = grads['db1']\n",
    "    db2 = grads['db2']\n",
    "    \n",
    "    #updating\n",
    "    \n",
    "    W1 += -dW1*learning_rate\n",
    "    W2 += -dW2*learning_rate\n",
    "    b1 += -db1*learning_rate\n",
    "    b2 += -db2*learning_rate\n",
    "    \n",
    "    parameters = {\"W1\": W1,\n",
    "                  \"b1\": b1,\n",
    "                  \"W2\": W2,\n",
    "                  \"b2\": b2}\n",
    "    \n",
    "    return parameters"
   ]
  },
  {
   "cell_type": "code",
   "execution_count": 331,
   "metadata": {},
   "outputs": [],
   "source": [
    "parameters = updating_gradients(parameters, grads)"
   ]
  },
  {
   "cell_type": "code",
   "execution_count": 332,
   "metadata": {},
   "outputs": [
    {
     "data": {
      "text/plain": [
       "{'W1': array([[-0.00417024, -0.00056485],\n",
       "        [-0.02136256,  0.01640371],\n",
       "        [-0.01793762, -0.00841849]]), 'b1': array([[ -1.16406471e-06],\n",
       "        [ -6.56526911e-09],\n",
       "        [  1.15472496e-06]]), 'W2': array([[ 0.00503137, -0.01245052, -0.01057236]]), 'b2': array([[-0.00023731]])}"
      ]
     },
     "execution_count": 332,
     "metadata": {},
     "output_type": "execute_result"
    }
   ],
   "source": [
    "parameters"
   ]
  },
  {
   "cell_type": "markdown",
   "metadata": {},
   "source": [
    "Integration of functions"
   ]
  },
  {
   "cell_type": "code",
   "execution_count": 333,
   "metadata": {},
   "outputs": [],
   "source": [
    "import sys\n",
    "import time\n",
    "\n",
    "def NN_model(X,Y,nh,number_iterations = 1000):\n",
    "    '''\n",
    "    input:\n",
    "    X: input matrix with features zise(2,m)\n",
    "    Y: labels of shape (1, m)\n",
    "    nh: number of neurons\n",
    "    number_iterations: number of iterations in gradient descent loop\n",
    "    \n",
    "    output:\n",
    "    parameters: parameters learnt by the model\n",
    "    '''\n",
    "    nx = X.shape[0]\n",
    "    #initializing parameters\n",
    "    parameters = initialparameters(nx,nh,1)\n",
    "    \n",
    "    W1 = parameters['W1']   # Size (nx,nh)\n",
    "    b1 = parameters['b1']   # Size (nh,1)\n",
    "    W2 = parameters['W2']   # Size (ny,nh)\n",
    "    b2 = parameters['b2']   # Size (ny,1)\n",
    "    \n",
    "    for i in range(0, number_iterations):\n",
    "        A2,cache = forward_propagation(X, parameters)\n",
    "        # Cost function\n",
    "        cost = computing_cost(A2,Y)\n",
    "        # Backpropagation\n",
    "        grads = backpropagation(cache, parameters, X,Y)\n",
    "        # gradient descent\n",
    "        parameters = updating_gradients(parameters, grads)\n",
    "        \n",
    "        #time.sleep(0.2) # do real work here\n",
    "        # update the bar\n",
    "        #sys.stdout.write(\"=\")\n",
    "        #sys.stdout.flush()\n",
    "        if i % 1000 == 0:\n",
    "            print(f'The cost for iteration {i} is {cost}')\n",
    "    return parameters"
   ]
  },
  {
   "cell_type": "code",
   "execution_count": 334,
   "metadata": {},
   "outputs": [
    {
     "name": "stdout",
     "output_type": "stream",
     "text": [
      "The cost for iteration 0 is 2.773469712862777\n",
      "The cost for iteration 1000 is 2.7725821884411745\n",
      "The cost for iteration 2000 is 0.950660367107952\n",
      "The cost for iteration 3000 is 0.9010276633481851\n",
      "The cost for iteration 4000 is 0.03162956509092786\n",
      "The cost for iteration 5000 is 0.006605055845842714\n",
      "The cost for iteration 6000 is 0.0035821661714255724\n",
      "The cost for iteration 7000 is 0.002431933662585699\n",
      "The cost for iteration 8000 is 0.0018315446212868315\n",
      "The cost for iteration 9000 is 0.0014645798060323881\n"
     ]
    },
    {
     "data": {
      "text/plain": [
       "{'W1': array([[ 1.91892954,  1.6568821 ],\n",
       "        [-6.7532347 ,  0.25133867],\n",
       "        [-3.18144007, -0.56336961],\n",
       "        [-2.78190131,  5.01933569]]), 'b1': array([[ 0.19470794],\n",
       "        [ 8.23721099],\n",
       "        [ 9.99953013],\n",
       "        [ 0.51274215]]), 'W2': array([[-5.46752197, -8.9501284 ,  9.04806195,  4.30983623]]), 'b2': array([[-7.27987398]])}"
      ]
     },
     "execution_count": 334,
     "metadata": {},
     "output_type": "execute_result"
    }
   ],
   "source": [
    "parameters = NN_model(X, Y, nh = 4, number_iterations=10000)\n",
    "parameters"
   ]
  },
  {
   "cell_type": "markdown",
   "metadata": {},
   "source": [
    "let's make a prediction"
   ]
  },
  {
   "cell_type": "code",
   "execution_count": 335,
   "metadata": {},
   "outputs": [],
   "source": [
    "def predict(X, parameters):\n",
    "    '''\n",
    "    input:\n",
    "    X = matrix with the input samples and features\n",
    "    parameters = python dictionary with the optimization of the parameters\n",
    "    \n",
    "    output:\n",
    "    A2 = vector with the predictions\n",
    "    '''\n",
    "    \n",
    "    A2,cache = forward_propagation(X, parameters)\n",
    "    predictions = np.where(A2<0.5,0,1)\n",
    "    \n",
    "    return predictions   "
   ]
  },
  {
   "cell_type": "code",
   "execution_count": 336,
   "metadata": {},
   "outputs": [],
   "source": [
    "x1, x2 = np.meshgrid(np.arange(0,3.5,0.1), np.arange(0,3.5,0.1))\n",
    "xx = np.array((x1.reshape(-1),x2.reshape(-1)))\n",
    "res = predict(xx, parameters)"
   ]
  },
  {
   "cell_type": "markdown",
   "metadata": {},
   "source": [
    "Decision boundary"
   ]
  },
  {
   "cell_type": "code",
   "execution_count": 337,
   "metadata": {},
   "outputs": [
    {
     "data": {
      "image/png": "[encoded data removed]",
      "text/plain": [
       "<matplotlib.figure.Figure at 0x7f8af408a080>"
      ]
     },
     "metadata": {
      "needs_background": "light"
     },
     "output_type": "display_data"
    }
   ],
   "source": [
    "from matplotlib import pyplot as plt\n",
    "cm = plt.cm.RdBu\n",
    "plt.contourf(x1, x2, res.reshape((x1.shape)), cmap=cm)\n",
    "plt.scatter(c0_x,c0_y,c='red',label = 'class0')\n",
    "plt.scatter(c1_x,c1_y,c='blue',label = 'class1')\n",
    "plt.legend()\n",
    "plt.show()"
   ]
  },
  {
   "cell_type": "markdown",
   "metadata": {},
   "source": [
    "### First conclusion\n",
    "\n",
    "In this template, I have introduced the function of a shallow NN with the purpose of a binary classification. Well, my final goal is to show a NN model for multiple layers and multilabel output. Therefore, let's start coding this."
   ]
  },
  {
   "cell_type": "markdown",
   "metadata": {},
   "source": [
    "# A Deep Neural Network model\n",
    "\n",
    "In contrary to the last section, the main objective is to include in a net different number of layers with different number of neurons. Moreover, instead of classifying between two classes, I will introduce the code for multilabel classification. It should be noticed that I will develop a net taking as example the iris dataset. Let define the cartesian planes for each arrangement of coordinates."
   ]
  },
  {
   "cell_type": "code",
   "execution_count": 338,
   "metadata": {},
   "outputs": [
    {
     "data": {
      "text/plain": [
       "(150, 1)"
      ]
     },
     "execution_count": 338,
     "metadata": {},
     "output_type": "execute_result"
    }
   ],
   "source": [
    "import numpy as np\n",
    "import matplotlib.pyplot as plt\n",
    "from mpl_toolkits.mplot3d import axes3d\n",
    "from sklearn import datasets\n",
    "\n",
    "# import some data to play with\n",
    "iris = datasets.load_iris()\n",
    "X_iris = iris['data']\n",
    "Y_iris = iris['target'].reshape(len(X_iris),1)\n",
    "Y_iris.shape"
   ]
  },
  {
   "cell_type": "code",
   "execution_count": 339,
   "metadata": {},
   "outputs": [
    {
     "name": "stderr",
     "output_type": "stream",
     "text": [
      "/home/willimarti2008/.local/lib/python3.6/site-packages/ipykernel_launcher.py:8: UserWarning: Requested projection is different from current axis projection, creating new axis with requested projection.\n",
      "  \n"
     ]
    },
    {
     "data": {
      "image/png": "[encoded data removed]",
      "text/plain": [
       "<matplotlib.figure.Figure at 0x7f8af4660cf8>"
      ]
     },
     "metadata": {
      "needs_background": "light"
     },
     "output_type": "display_data"
    }
   ],
   "source": [
    "labels = (0, 1, 2)\n",
    "colors = (\"red\", \"green\", \"blue\")\n",
    "groups = iris['target_names']\n",
    "\n",
    "# Create plot\n",
    "fig = plt.figure()\n",
    "ax = fig.add_subplot(1, 1, 1, axisbg=\"1.0\")\n",
    "ax = fig.gca(projection='3d')\n",
    "\n",
    "for labels, color, group in zip(labels, colors, groups):\n",
    "    x = X_iris[np.where(Y_iris == labels)[0],0]\n",
    "    y = X_iris[np.where(Y_iris == labels)[0],1]\n",
    "    z = X_iris[np.where(Y_iris == labels)[0],2]\n",
    "    \n",
    "    ax.scatter(x, y, z, alpha=0.8, c=color, edgecolors='none', s=30, label=group)\n",
    "\n",
    "plt.title('Matplot 3d scatter plot')\n",
    "plt.legend(loc=2)\n",
    "plt.show()"
   ]
  },
  {
   "cell_type": "code",
   "execution_count": 340,
   "metadata": {},
   "outputs": [],
   "source": [
    "nx = 4\n",
    "nh = [4,5]\n",
    "ny = 3"
   ]
  },
  {
   "cell_type": "markdown",
   "metadata": {},
   "source": [
    "let's create the weigths"
   ]
  },
  {
   "cell_type": "code",
   "execution_count": 341,
   "metadata": {},
   "outputs": [],
   "source": [
    "def initialparameters_mult(nx,nh,ny):\n",
    "    '''\n",
    "    input:\n",
    "    nx = number of features\n",
    "    nh = a list with the number of neurons in every element\n",
    "    ny = number of classes\n",
    "    output:\n",
    "    W = python dictionary with the multiple weight matrices with regard layer L \n",
    "    b = \n",
    "    '''\n",
    "    layers = [nx] + nh + [ny]\n",
    "    layers\n",
    "    \n",
    "    parameters_W = {}\n",
    "    parameters_b = {}\n",
    "    for l in range(1,len(layers)):\n",
    "        parameters_W[f'W{l}'] = np.random.randn(layers[l],layers[l-1])*0.01\n",
    "        parameters_b[f'b{l}'] = np.zeros((layers[l],1))*0.01\n",
    "    \n",
    "    return parameters_b, parameters_W     "
   ]
  },
  {
   "cell_type": "code",
   "execution_count": 342,
   "metadata": {},
   "outputs": [
    {
     "data": {
      "text/plain": [
       "(3, 5)"
      ]
     },
     "execution_count": 342,
     "metadata": {},
     "output_type": "execute_result"
    }
   ],
   "source": [
    "parameters_b, parameters_W  = initialparameters_mult(nx,nh,ny)\n",
    "parameters_W['W3'].shape"
   ]
  },
  {
   "cell_type": "code",
   "execution_count": 343,
   "metadata": {},
   "outputs": [],
   "source": [
    "#softmax function\n",
    "def softmax(y):\n",
    "    delta = np.exp(y)/np.sum(np.exp(y))\n",
    "    return delta\n",
    "\n",
    "def forward_propagation_mult(X, parameters_W, parameters_b):\n",
    "    \"\"\"\n",
    "    Argument:\n",
    "    X -- input data of size (n_x, m)\n",
    "    parameters -- python dictionary containing your parameters (output of initialization function)\n",
    "    \n",
    "    Returns:\n",
    "    A2 -- The sigmoid output of the L activation\n",
    "    cache -- a dictionary containing \"Z1\", \"A1\", \"Z2\",\"A2\",...\"ZL\", \"AL\"\n",
    "    \n",
    "    Note: using tanh as activation function\n",
    "    \"\"\"\n",
    "    \n",
    "    Z1 = np.dot(parameters_W[f'W{1}'],X) + parameters_b[f'b{1}']\n",
    "    Al = np.tanh(Z1)\n",
    "    cache_Z = {}\n",
    "    cache_A = {}\n",
    "    cache_Z['Z1'] = Z1\n",
    "    cache_A['A1'] = Al\n",
    "    for l in range(2,len(parameters_W) + 1):    \n",
    "        Zl = np.dot(parameters_W[f'W{l}'],Al) + parameters_b[f'b{l}']\n",
    "        if l != (len(parameters_W)):\n",
    "            Al = np.tanh(Zl)\n",
    "        else:\n",
    "            Al = np.apply_along_axis(softmax,0,Zl)\n",
    "        cache_Z[f'Z{l}'] = Zl\n",
    "        cache_A[f'A{l}'] = Al\n",
    "    \n",
    "    return Al ,cache_Z, cache_A\n",
    "    "
   ]
  },
  {
   "cell_type": "code",
   "execution_count": 344,
   "metadata": {},
   "outputs": [
    {
     "data": {
      "text/plain": [
       "(3, 150)"
      ]
     },
     "execution_count": 344,
     "metadata": {},
     "output_type": "execute_result"
    }
   ],
   "source": [
    "Al, cache_Z, cache_A = forward_propagation_mult(X_iris.T, parameters_W, parameters_b)\n",
    "cache_A['A3'].shape"
   ]
  },
  {
   "cell_type": "markdown",
   "metadata": {},
   "source": [
    "$y$ must be convertein a matrix in term of ceros and ones"
   ]
  },
  {
   "cell_type": "code",
   "execution_count": 345,
   "metadata": {},
   "outputs": [
    {
     "data": {
      "text/plain": [
       "-50.000045215847152"
      ]
     },
     "execution_count": 345,
     "metadata": {},
     "output_type": "execute_result"
    }
   ],
   "source": [
    "def conversion(Y):\n",
    "    labels = np.unique(Y)\n",
    "    a = {}\n",
    "    j = 0\n",
    "    for i in labels:\n",
    "        b = np.zeros(len(labels))\n",
    "        b[j] = 1\n",
    "        a[i] = b\n",
    "        j += 1\n",
    "\n",
    "    categories = np.apply_along_axis(lambda x: a[x[0]],1,Y)    \n",
    "    return categories\n",
    "\n",
    "def computing_cost_mult(Al,Y):\n",
    "    '''\n",
    "    input:\n",
    "    A2 = activation layer 2\n",
    "    y = vector with labels one and cero, size (1,m)\n",
    "    output:\n",
    "    cost = cost entropy\n",
    "    '''\n",
    "    YC = conversion(Y)\n",
    "    # Compute the cross-entropy cost\n",
    "    AY = np.multiply(Al.T,YC)\n",
    "    sumprobs = np.apply_along_axis(sum,1,AY)\n",
    "    cost = - np.sum(sumprobs)\n",
    "\n",
    "    return cost \n",
    "\n",
    "cost = computing_cost_mult(Al,Y_iris)\n",
    "cost"
   ]
  },
  {
   "cell_type": "markdown",
   "metadata": {},
   "source": [
    "## gradient descendent\n",
    "\n",
    "This is on development"
   ]
  },
  {
   "cell_type": "code",
   "execution_count": 346,
   "metadata": {},
   "outputs": [],
   "source": [
    "def backpropagation_mut(cache, parameters, X,Y):\n",
    "    '''\n",
    "    input:\n",
    "    cache: python dictionary with the matrices after activation\n",
    "    parameters:python dictionary with the weights\n",
    "    X: features input size (nx,m)\n",
    "    Y: vector with labels one and cero, size (1,m)\n",
    "    \n",
    "    output:\n",
    "    grads: python dictionary with the derivaties of every step in the backpropagation\n",
    "    '''\n",
    "    \n",
    "    m = X.shape[1]\n",
    "    # parameters\n",
    "    W1 = parameters['W1']   # Size (nx,nh)\n",
    "    b1 = parameters['b1']   # Size (nh,1)\n",
    "    W2 = parameters['W2']   # Size (ny,nh)\n",
    "    b2 = parameters['b2']   # Size (ny,1)\n",
    "    # cache\n",
    "    Z1 = cache['Z1']        # Size (nh,m)\n",
    "    A1 = cache['A1']        # Size (nh,m)\n",
    "    Z2 = cache['Z2']        # Size (ny,m)\n",
    "    A2 = cache['A2']        # Size (ny,m)\n",
    "    \n",
    "    #Derivatives\n",
    "    dZ2 = A2 - Y            # Size (ny,m)\n",
    "    dW2 = (1/m)*np.dot(dZ2,A1.T)  # Size (ny,nh)\n",
    "    db2 = (1/m)*np.sum(dZ2, axis=1,keepdims=True)\n",
    "    dZ1 = np.multiply(np.dot(W2.T,dZ2),(1 - np.power(A1,2))) # Size (nh,m)\n",
    "    dW1 = (1/m)*np.dot(dZ1,X.T)  # Size (nh,nx)\n",
    "    db1 = (1/m)*np.sum(dZ1, axis=1,keepdims=True)\n",
    "     \n",
    "    grads = {\"dW1\": dW1,\n",
    "             \"db1\": db1,\n",
    "             \"dW2\": dW2,\n",
    "             \"db2\": db2}\n",
    "    \n",
    "    return grads"
   ]
  }
 ],
 "metadata": {
  "kernelspec": {
   "display_name": "Python 3",
   "language": "python",
   "name": "python3"
  },
  "language_info": {
   "codemirror_mode": {
    "name": "ipython",
    "version": 3
   },
   "file_extension": ".py",
   "mimetype": "text/x-python",
   "name": "python",
   "nbconvert_exporter": "python",
   "pygments_lexer": "ipython3",
   "version": "3.6.7"
  }
 },
 "nbformat": 4,
 "nbformat_minor": 2
}
